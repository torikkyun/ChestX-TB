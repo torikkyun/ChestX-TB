{
 "cells": [
  {
   "cell_type": "code",
   "execution_count": 1,
   "metadata": {},
   "outputs": [],
   "source": [
    "import torch\n",
    "import torch.nn as nn\n",
    "from torchvision import models, transforms\n",
    "from PIL import Image\n",
    "import os"
   ]
  },
  {
   "cell_type": "code",
   "execution_count": 2,
   "metadata": {},
   "outputs": [],
   "source": [
    "transform = transforms.Compose(\n",
    "    [\n",
    "        transforms.Resize((224, 224)),\n",
    "        transforms.ToTensor(),\n",
    "        transforms.Normalize(\n",
    "            mean=[0.485, 0.456, 0.406], std=[0.229, 0.224, 0.225]\n",
    "        ),\n",
    "    ]\n",
    ")"
   ]
  },
  {
   "cell_type": "code",
   "execution_count": null,
   "metadata": {},
   "outputs": [],
   "source": [
    "model = models.resnet18()\n",
    "num_ftrs = model.fc.in_features\n",
    "model.fc = nn.Linear(num_ftrs, 1)\n",
    "device = torch.device(\"cuda\" if torch.cuda.is_available() else \"cpu\")\n",
    "model_path = \"best_model.pth\"\n",
    "model.load_state_dict(torch.load(model_path, map_location=device))\n",
    "model = model.to(device)\n",
    "model.eval()"
   ]
  },
  {
   "cell_type": "code",
   "execution_count": null,
   "metadata": {},
   "outputs": [],
   "source": [
    "def predict_image(\n",
    "    image_path,\n",
    "    model,\n",
    "    transform,\n",
    "    device,\n",
    "    class_names=[\"Normal\", \"Tuberculosis\"],\n",
    "):\n",
    "    image = Image.open(image_path).convert(\"RGB\")\n",
    "    image = transform(image)\n",
    "    image = image.unsqueeze(0)\n",
    "    image = image.to(device)\n",
    "\n",
    "    with torch.no_grad():\n",
    "        output = model(image)\n",
    "        prob = torch.sigmoid(output)\n",
    "        pred_prob = prob.item()\n",
    "        pred_class = 1 if pred_prob > 0.5 else 0\n",
    "\n",
    "    return class_names[pred_class], pred_prob"
   ]
  },
  {
   "cell_type": "code",
   "execution_count": null,
   "metadata": {},
   "outputs": [],
   "source": [
    "image_path = \"path_to_new_image.jpg\"\n",
    "predicted_class, probability = predict_image(\n",
    "    image_path, model, transform, device\n",
    ")\n",
    "print(f\"Dự đoán: {predicted_class}\")\n",
    "print(f\"Xác suất Tuberculosis: {probability:.4f}\")"
   ]
  },
  {
   "cell_type": "code",
   "execution_count": null,
   "metadata": {},
   "outputs": [],
   "source": [
    "def predict_multiple_images(\n",
    "    image_dir, model, transform, device, class_names=[\"Normal\", \"Tuberculosis\"]\n",
    "):\n",
    "    results = []\n",
    "    for image_name in os.listdir(image_dir):\n",
    "        image_path = os.path.join(image_dir, image_name)\n",
    "        if image_path.endswith(\n",
    "            (\".jpg\", \".jpeg\", \".png\")\n",
    "        ):\n",
    "            pred_class, pred_prob = predict_image(\n",
    "                image_path, model, transform, device, class_names\n",
    "            )\n",
    "            results.append((image_name, pred_class, pred_prob))\n",
    "            print(\n",
    "                f\"Ảnh: {image_name}, Dự đoán: {pred_class}, Xác suất TB: {pred_prob:.4f}\"\n",
    "            )\n",
    "    return results"
   ]
  },
  {
   "cell_type": "code",
   "execution_count": null,
   "metadata": {},
   "outputs": [],
   "source": [
    "image_dir = \"path_to_image_folder\"\n",
    "results = predict_multiple_images(image_dir, model, transform, device)"
   ]
  }
 ],
 "metadata": {
  "kernelspec": {
   "display_name": ".venv",
   "language": "python",
   "name": "python3"
  },
  "language_info": {
   "codemirror_mode": {
    "name": "ipython",
    "version": 3
   },
   "file_extension": ".py",
   "mimetype": "text/x-python",
   "name": "python",
   "nbconvert_exporter": "python",
   "pygments_lexer": "ipython3",
   "version": "3.11.11"
  }
 },
 "nbformat": 4,
 "nbformat_minor": 2
}
